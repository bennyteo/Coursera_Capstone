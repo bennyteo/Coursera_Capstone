{
 "cells": [
  {
   "cell_type": "markdown",
   "metadata": {
    "collapsed": true
   },
   "source": [
    "# Problem\n",
    "In Singapore, public housing are named as the ubiquitious HDB flats. Due to the growing economy and land scarce nature of the island nature, property prices are on a general uptrend. Despite it being public housing, lease holders have the right to buy and sell their HDB flats allowing for a chance for profit.  \n",
    "Despite public data on transaction prices being available, it is still a challenge to determine the right price to sell at. This data science project aims to identify the factors that influence real estate prices and hopes to develop a predictive model considering those factors to provide future sellers with a data informed pricing guide to sell at."
   ]
  },
  {
   "cell_type": "markdown",
   "metadata": {},
   "source": [
    "# Literature review\n",
    "An NUS Study compares depreciation value between private leasehold, private freehold and HDB flats. It however does not provide a perspective of other factors. \n",
    "Property Guru & 99co provides transaction prices but do not determine what factors influence the prices.    "
   ]
  },
  {
   "cell_type": "markdown",
   "metadata": {},
   "source": [
    "# Data Description\n",
    "URA API source (https://www.ura.gov.sg/maps/api/#introduction) includes only Private residential/landed prices but not public housing transaction prices. The dataset may be relevant if there is an extension of the work to private housing.  \n",
    "Data.gov.sg has a wealth of publicly available data. A trawl through the database yielded a residential resale prices to be a good fit to what is required. Its dataset includes Town, Flat type, Block, Street name, Storey range, Floor area sqm, Flat model, Lease commence date, Remaining lease. The 9 factors is presents a sufficiently wide range of factors for the purposes of the study.  \n",
    "Foursquare API data can be used to ascertain nearby amenities and provide a supporting view1. The focus of the study will be on a regression model and thus will not apply the clustering methodology used in the course. It is the author's intention to explore methods beyond what was taught in the course rather than replicating the course steps. \n",
    "\n"
   ]
  },
  {
   "cell_type": "markdown",
   "metadata": {},
   "source": [
    "# Data Preprocessing"
   ]
  },
  {
   "cell_type": "markdown",
   "metadata": {},
   "source": [
    "### Import transaction data from Data.gov.sg API"
   ]
  },
  {
   "cell_type": "code",
   "execution_count": 1,
   "metadata": {
    "collapsed": true
   },
   "outputs": [],
   "source": [
    "#Gets the data from the API\n",
    "import urllib\n",
    "url = 'https://data.gov.sg/api/action/datastore_search?resource_id=42ff9cfe-abe5-4b54-beda-c88f9bb438ee'\n",
    "# Open the URL as Browser, not as python urllib. Default guide provided by data.gov gives a 403 Forbidden error.\n",
    "page=urllib.request.Request(url,headers={'User-Agent': 'Mozilla/5.0'}) \n",
    "infile=urllib.request.urlopen(page).read()\n",
    "data = infile.decode('ISO-8859-1') # Read the content as string decoded with ISO-8859-1"
   ]
  },
  {
   "cell_type": "code",
   "execution_count": 2,
   "metadata": {},
   "outputs": [
    {
     "data": {
      "text/html": [
       "<div>\n",
       "<style scoped>\n",
       "    .dataframe tbody tr th:only-of-type {\n",
       "        vertical-align: middle;\n",
       "    }\n",
       "\n",
       "    .dataframe tbody tr th {\n",
       "        vertical-align: top;\n",
       "    }\n",
       "\n",
       "    .dataframe thead th {\n",
       "        text-align: right;\n",
       "    }\n",
       "</style>\n",
       "<table border=\"1\" class=\"dataframe\">\n",
       "  <thead>\n",
       "    <tr style=\"text-align: right;\">\n",
       "      <th></th>\n",
       "      <th>town</th>\n",
       "      <th>flat_type</th>\n",
       "      <th>flat_model</th>\n",
       "      <th>floor_area_sqm</th>\n",
       "      <th>street_name</th>\n",
       "      <th>resale_price</th>\n",
       "      <th>month</th>\n",
       "      <th>remaining_lease</th>\n",
       "      <th>lease_commence_date</th>\n",
       "      <th>storey_range</th>\n",
       "      <th>_id</th>\n",
       "      <th>block</th>\n",
       "    </tr>\n",
       "  </thead>\n",
       "  <tbody>\n",
       "    <tr>\n",
       "      <th>0</th>\n",
       "      <td>ANG MO KIO</td>\n",
       "      <td>2 ROOM</td>\n",
       "      <td>Improved</td>\n",
       "      <td>44</td>\n",
       "      <td>ANG MO KIO AVE 10</td>\n",
       "      <td>232000</td>\n",
       "      <td>2017-01</td>\n",
       "      <td>61 years 04 months</td>\n",
       "      <td>1979</td>\n",
       "      <td>10 TO 12</td>\n",
       "      <td>1</td>\n",
       "      <td>406</td>\n",
       "    </tr>\n",
       "    <tr>\n",
       "      <th>1</th>\n",
       "      <td>ANG MO KIO</td>\n",
       "      <td>3 ROOM</td>\n",
       "      <td>New Generation</td>\n",
       "      <td>67</td>\n",
       "      <td>ANG MO KIO AVE 4</td>\n",
       "      <td>250000</td>\n",
       "      <td>2017-01</td>\n",
       "      <td>60 years 07 months</td>\n",
       "      <td>1978</td>\n",
       "      <td>01 TO 03</td>\n",
       "      <td>2</td>\n",
       "      <td>108</td>\n",
       "    </tr>\n",
       "    <tr>\n",
       "      <th>2</th>\n",
       "      <td>ANG MO KIO</td>\n",
       "      <td>3 ROOM</td>\n",
       "      <td>New Generation</td>\n",
       "      <td>67</td>\n",
       "      <td>ANG MO KIO AVE 5</td>\n",
       "      <td>262000</td>\n",
       "      <td>2017-01</td>\n",
       "      <td>62 years 05 months</td>\n",
       "      <td>1980</td>\n",
       "      <td>01 TO 03</td>\n",
       "      <td>3</td>\n",
       "      <td>602</td>\n",
       "    </tr>\n",
       "    <tr>\n",
       "      <th>3</th>\n",
       "      <td>ANG MO KIO</td>\n",
       "      <td>3 ROOM</td>\n",
       "      <td>New Generation</td>\n",
       "      <td>68</td>\n",
       "      <td>ANG MO KIO AVE 10</td>\n",
       "      <td>265000</td>\n",
       "      <td>2017-01</td>\n",
       "      <td>62 years 01 month</td>\n",
       "      <td>1980</td>\n",
       "      <td>04 TO 06</td>\n",
       "      <td>4</td>\n",
       "      <td>465</td>\n",
       "    </tr>\n",
       "    <tr>\n",
       "      <th>4</th>\n",
       "      <td>ANG MO KIO</td>\n",
       "      <td>3 ROOM</td>\n",
       "      <td>New Generation</td>\n",
       "      <td>67</td>\n",
       "      <td>ANG MO KIO AVE 5</td>\n",
       "      <td>265000</td>\n",
       "      <td>2017-01</td>\n",
       "      <td>62 years 05 months</td>\n",
       "      <td>1980</td>\n",
       "      <td>01 TO 03</td>\n",
       "      <td>5</td>\n",
       "      <td>601</td>\n",
       "    </tr>\n",
       "  </tbody>\n",
       "</table>\n",
       "</div>"
      ],
      "text/plain": [
       "         town flat_type      flat_model  floor_area_sqm        street_name  \\\n",
       "0  ANG MO KIO    2 ROOM        Improved              44  ANG MO KIO AVE 10   \n",
       "1  ANG MO KIO    3 ROOM  New Generation              67   ANG MO KIO AVE 4   \n",
       "2  ANG MO KIO    3 ROOM  New Generation              67   ANG MO KIO AVE 5   \n",
       "3  ANG MO KIO    3 ROOM  New Generation              68  ANG MO KIO AVE 10   \n",
       "4  ANG MO KIO    3 ROOM  New Generation              67   ANG MO KIO AVE 5   \n",
       "\n",
       "   resale_price    month     remaining_lease  lease_commence_date  \\\n",
       "0        232000  2017-01  61 years 04 months                 1979   \n",
       "1        250000  2017-01  60 years 07 months                 1978   \n",
       "2        262000  2017-01  62 years 05 months                 1980   \n",
       "3        265000  2017-01   62 years 01 month                 1980   \n",
       "4        265000  2017-01  62 years 05 months                 1980   \n",
       "\n",
       "  storey_range  _id block  \n",
       "0     10 TO 12    1   406  \n",
       "1     01 TO 03    2   108  \n",
       "2     01 TO 03    3   602  \n",
       "3     04 TO 06    4   465  \n",
       "4     01 TO 03    5   601  "
      ]
     },
     "execution_count": 2,
     "metadata": {},
     "output_type": "execute_result"
    }
   ],
   "source": [
    "#Transforms the data into a pandas dataframe\n",
    "import pandas as pd\n",
    "import json\n",
    "df = pd.read_json(data)\n",
    "results_df = df['result']['records'] #access the nested list for the records\n",
    "json_string = json.dumps(results_df) #converts list to json for import into dataframe\n",
    "\n",
    "hdb_df = pd.read_json(json_string)\n",
    "hdb_df.head()\n"
   ]
  },
  {
   "cell_type": "markdown",
   "metadata": {},
   "source": [
    "### Understand the dataset"
   ]
  },
  {
   "cell_type": "code",
   "execution_count": 3,
   "metadata": {},
   "outputs": [
    {
     "data": {
      "text/plain": [
       "town                   0\n",
       "flat_type              0\n",
       "flat_model             0\n",
       "floor_area_sqm         0\n",
       "street_name            0\n",
       "resale_price           0\n",
       "month                  0\n",
       "remaining_lease        0\n",
       "lease_commence_date    0\n",
       "storey_range           0\n",
       "_id                    0\n",
       "block                  0\n",
       "dtype: int64"
      ]
     },
     "execution_count": 3,
     "metadata": {},
     "output_type": "execute_result"
    }
   ],
   "source": [
    "#Understand the data set\n",
    "hdb_df.describe()\n",
    "#Check for null values in the dataset\n",
    "hdb_df.isnull().sum()"
   ]
  },
  {
   "cell_type": "code",
   "execution_count": 4,
   "metadata": {
    "scrolled": true
   },
   "outputs": [
    {
     "data": {
      "text/plain": [
       "<matplotlib.axes._subplots.AxesSubplot at 0x7f41cacf1e90>"
      ]
     },
     "execution_count": 4,
     "metadata": {},
     "output_type": "execute_result"
    },
    {
     "data": {
      "image/png": "[encoded data removed]",
      "text/plain": [
       "<Figure size 432x288 with 1 Axes>"
      ]
     },
     "metadata": {
      "needs_background": "light"
     },
     "output_type": "display_data"
    }
   ],
   "source": [
    "import matplotlib.pyplot as plt\n",
    "hdb_df['flat_type'].value_counts().plot(kind='bar')"
   ]
  },
  {
   "cell_type": "markdown",
   "metadata": {},
   "source": [
    "There is an obvious volume of 3 room flats in the data set for the period."
   ]
  },
  {
   "cell_type": "markdown",
   "metadata": {},
   "source": [
    "## Modelling"
   ]
  },
  {
   "cell_type": "markdown",
   "metadata": {},
   "source": [
    "### Convert applicable data into numerical features for optimisation"
   ]
  },
  {
   "cell_type": "markdown",
   "metadata": {},
   "source": [
    "Getting the remaining lease term"
   ]
  },
  {
   "cell_type": "code",
   "execution_count": 5,
   "metadata": {
    "collapsed": true
   },
   "outputs": [],
   "source": [
    "# Transform features to numeric for optimization# can I convert rooms and town? for future\n",
    "#floor_area_sqm, lease_commence_date, storey_range \n",
    "\n",
    "\n",
    "##Getting years of remaining lease from current year. remaining_lease column is not accurate as its backgdate (pegged at the time when the api ran)\n",
    "#Getting the current year\n",
    "from datetime import date\n",
    "\n",
    "current_date = date.today()\n",
    "current_year = current_date.year\n",
    "\n",
    "# Getting the lease commence date\n",
    "hdb_df['remaining_lease_int'] = 99 - (current_year - hdb_df['lease_commence_date'])\n",
    "\n"
   ]
  },
  {
   "cell_type": "markdown",
   "metadata": {},
   "source": [
    "Applying a median to the floor level to allow for optimisation"
   ]
  },
  {
   "cell_type": "code",
   "execution_count": 6,
   "metadata": {},
   "outputs": [
    {
     "data": {
      "text/html": [
       "<div>\n",
       "<style scoped>\n",
       "    .dataframe tbody tr th:only-of-type {\n",
       "        vertical-align: middle;\n",
       "    }\n",
       "\n",
       "    .dataframe tbody tr th {\n",
       "        vertical-align: top;\n",
       "    }\n",
       "\n",
       "    .dataframe thead th {\n",
       "        text-align: right;\n",
       "    }\n",
       "</style>\n",
       "<table border=\"1\" class=\"dataframe\">\n",
       "  <thead>\n",
       "    <tr style=\"text-align: right;\">\n",
       "      <th></th>\n",
       "      <th>town</th>\n",
       "      <th>flat_type</th>\n",
       "      <th>flat_model</th>\n",
       "      <th>floor_area_sqm</th>\n",
       "      <th>street_name</th>\n",
       "      <th>resale_price</th>\n",
       "      <th>month</th>\n",
       "      <th>remaining_lease</th>\n",
       "      <th>lease_commence_date</th>\n",
       "      <th>storey_range</th>\n",
       "      <th>_id</th>\n",
       "      <th>block</th>\n",
       "      <th>remaining_lease_int</th>\n",
       "      <th>storey</th>\n",
       "    </tr>\n",
       "  </thead>\n",
       "  <tbody>\n",
       "    <tr>\n",
       "      <th>0</th>\n",
       "      <td>ANG MO KIO</td>\n",
       "      <td>2 ROOM</td>\n",
       "      <td>Improved</td>\n",
       "      <td>44</td>\n",
       "      <td>ANG MO KIO AVE 10</td>\n",
       "      <td>232000</td>\n",
       "      <td>2017-01</td>\n",
       "      <td>61 years 04 months</td>\n",
       "      <td>1979</td>\n",
       "      <td>10 TO 12</td>\n",
       "      <td>1</td>\n",
       "      <td>406</td>\n",
       "      <td>57</td>\n",
       "      <td>11</td>\n",
       "    </tr>\n",
       "    <tr>\n",
       "      <th>1</th>\n",
       "      <td>ANG MO KIO</td>\n",
       "      <td>3 ROOM</td>\n",
       "      <td>New Generation</td>\n",
       "      <td>67</td>\n",
       "      <td>ANG MO KIO AVE 4</td>\n",
       "      <td>250000</td>\n",
       "      <td>2017-01</td>\n",
       "      <td>60 years 07 months</td>\n",
       "      <td>1978</td>\n",
       "      <td>01 TO 03</td>\n",
       "      <td>2</td>\n",
       "      <td>108</td>\n",
       "      <td>56</td>\n",
       "      <td>2</td>\n",
       "    </tr>\n",
       "    <tr>\n",
       "      <th>2</th>\n",
       "      <td>ANG MO KIO</td>\n",
       "      <td>3 ROOM</td>\n",
       "      <td>New Generation</td>\n",
       "      <td>67</td>\n",
       "      <td>ANG MO KIO AVE 5</td>\n",
       "      <td>262000</td>\n",
       "      <td>2017-01</td>\n",
       "      <td>62 years 05 months</td>\n",
       "      <td>1980</td>\n",
       "      <td>01 TO 03</td>\n",
       "      <td>3</td>\n",
       "      <td>602</td>\n",
       "      <td>58</td>\n",
       "      <td>2</td>\n",
       "    </tr>\n",
       "    <tr>\n",
       "      <th>3</th>\n",
       "      <td>ANG MO KIO</td>\n",
       "      <td>3 ROOM</td>\n",
       "      <td>New Generation</td>\n",
       "      <td>68</td>\n",
       "      <td>ANG MO KIO AVE 10</td>\n",
       "      <td>265000</td>\n",
       "      <td>2017-01</td>\n",
       "      <td>62 years 01 month</td>\n",
       "      <td>1980</td>\n",
       "      <td>04 TO 06</td>\n",
       "      <td>4</td>\n",
       "      <td>465</td>\n",
       "      <td>58</td>\n",
       "      <td>5</td>\n",
       "    </tr>\n",
       "    <tr>\n",
       "      <th>4</th>\n",
       "      <td>ANG MO KIO</td>\n",
       "      <td>3 ROOM</td>\n",
       "      <td>New Generation</td>\n",
       "      <td>67</td>\n",
       "      <td>ANG MO KIO AVE 5</td>\n",
       "      <td>265000</td>\n",
       "      <td>2017-01</td>\n",
       "      <td>62 years 05 months</td>\n",
       "      <td>1980</td>\n",
       "      <td>01 TO 03</td>\n",
       "      <td>5</td>\n",
       "      <td>601</td>\n",
       "      <td>58</td>\n",
       "      <td>2</td>\n",
       "    </tr>\n",
       "    <tr>\n",
       "      <th>...</th>\n",
       "      <td>...</td>\n",
       "      <td>...</td>\n",
       "      <td>...</td>\n",
       "      <td>...</td>\n",
       "      <td>...</td>\n",
       "      <td>...</td>\n",
       "      <td>...</td>\n",
       "      <td>...</td>\n",
       "      <td>...</td>\n",
       "      <td>...</td>\n",
       "      <td>...</td>\n",
       "      <td>...</td>\n",
       "      <td>...</td>\n",
       "      <td>...</td>\n",
       "    </tr>\n",
       "    <tr>\n",
       "      <th>95</th>\n",
       "      <td>BEDOK</td>\n",
       "      <td>4 ROOM</td>\n",
       "      <td>New Generation</td>\n",
       "      <td>91</td>\n",
       "      <td>BEDOK NTH RD</td>\n",
       "      <td>380000</td>\n",
       "      <td>2017-01</td>\n",
       "      <td>60 years 05 months</td>\n",
       "      <td>1978</td>\n",
       "      <td>01 TO 03</td>\n",
       "      <td>95</td>\n",
       "      <td>80</td>\n",
       "      <td>56</td>\n",
       "      <td>2</td>\n",
       "    </tr>\n",
       "    <tr>\n",
       "      <th>96</th>\n",
       "      <td>BEDOK</td>\n",
       "      <td>4 ROOM</td>\n",
       "      <td>New Generation</td>\n",
       "      <td>91</td>\n",
       "      <td>BEDOK NTH RD</td>\n",
       "      <td>382000</td>\n",
       "      <td>2017-01</td>\n",
       "      <td>60 years 07 months</td>\n",
       "      <td>1978</td>\n",
       "      <td>04 TO 06</td>\n",
       "      <td>96</td>\n",
       "      <td>78</td>\n",
       "      <td>56</td>\n",
       "      <td>5</td>\n",
       "    </tr>\n",
       "    <tr>\n",
       "      <th>97</th>\n",
       "      <td>BEDOK</td>\n",
       "      <td>4 ROOM</td>\n",
       "      <td>Simplified</td>\n",
       "      <td>84</td>\n",
       "      <td>BEDOK RESERVOIR RD</td>\n",
       "      <td>384000</td>\n",
       "      <td>2017-01</td>\n",
       "      <td>69 years 02 months</td>\n",
       "      <td>1987</td>\n",
       "      <td>07 TO 09</td>\n",
       "      <td>97</td>\n",
       "      <td>135</td>\n",
       "      <td>65</td>\n",
       "      <td>8</td>\n",
       "    </tr>\n",
       "    <tr>\n",
       "      <th>98</th>\n",
       "      <td>BEDOK</td>\n",
       "      <td>4 ROOM</td>\n",
       "      <td>Simplified</td>\n",
       "      <td>84</td>\n",
       "      <td>BEDOK RESERVOIR RD</td>\n",
       "      <td>385000</td>\n",
       "      <td>2017-01</td>\n",
       "      <td>69 years 03 months</td>\n",
       "      <td>1987</td>\n",
       "      <td>13 TO 15</td>\n",
       "      <td>98</td>\n",
       "      <td>148</td>\n",
       "      <td>65</td>\n",
       "      <td>14</td>\n",
       "    </tr>\n",
       "    <tr>\n",
       "      <th>99</th>\n",
       "      <td>BEDOK</td>\n",
       "      <td>4 ROOM</td>\n",
       "      <td>New Generation</td>\n",
       "      <td>91</td>\n",
       "      <td>BEDOK NTH RD</td>\n",
       "      <td>390000</td>\n",
       "      <td>2017-01</td>\n",
       "      <td>60 years 05 months</td>\n",
       "      <td>1978</td>\n",
       "      <td>01 TO 03</td>\n",
       "      <td>99</td>\n",
       "      <td>81</td>\n",
       "      <td>56</td>\n",
       "      <td>2</td>\n",
       "    </tr>\n",
       "  </tbody>\n",
       "</table>\n",
       "<p>100 rows × 14 columns</p>\n",
       "</div>"
      ],
      "text/plain": [
       "          town flat_type      flat_model  floor_area_sqm         street_name  \\\n",
       "0   ANG MO KIO    2 ROOM        Improved              44   ANG MO KIO AVE 10   \n",
       "1   ANG MO KIO    3 ROOM  New Generation              67    ANG MO KIO AVE 4   \n",
       "2   ANG MO KIO    3 ROOM  New Generation              67    ANG MO KIO AVE 5   \n",
       "3   ANG MO KIO    3 ROOM  New Generation              68   ANG MO KIO AVE 10   \n",
       "4   ANG MO KIO    3 ROOM  New Generation              67    ANG MO KIO AVE 5   \n",
       "..         ...       ...             ...             ...                 ...   \n",
       "95       BEDOK    4 ROOM  New Generation              91        BEDOK NTH RD   \n",
       "96       BEDOK    4 ROOM  New Generation              91        BEDOK NTH RD   \n",
       "97       BEDOK    4 ROOM      Simplified              84  BEDOK RESERVOIR RD   \n",
       "98       BEDOK    4 ROOM      Simplified              84  BEDOK RESERVOIR RD   \n",
       "99       BEDOK    4 ROOM  New Generation              91        BEDOK NTH RD   \n",
       "\n",
       "    resale_price    month     remaining_lease  lease_commence_date  \\\n",
       "0         232000  2017-01  61 years 04 months                 1979   \n",
       "1         250000  2017-01  60 years 07 months                 1978   \n",
       "2         262000  2017-01  62 years 05 months                 1980   \n",
       "3         265000  2017-01   62 years 01 month                 1980   \n",
       "4         265000  2017-01  62 years 05 months                 1980   \n",
       "..           ...      ...                 ...                  ...   \n",
       "95        380000  2017-01  60 years 05 months                 1978   \n",
       "96        382000  2017-01  60 years 07 months                 1978   \n",
       "97        384000  2017-01  69 years 02 months                 1987   \n",
       "98        385000  2017-01  69 years 03 months                 1987   \n",
       "99        390000  2017-01  60 years 05 months                 1978   \n",
       "\n",
       "   storey_range  _id block  remaining_lease_int  storey  \n",
       "0      10 TO 12    1   406                   57      11  \n",
       "1      01 TO 03    2   108                   56       2  \n",
       "2      01 TO 03    3   602                   58       2  \n",
       "3      04 TO 06    4   465                   58       5  \n",
       "4      01 TO 03    5   601                   58       2  \n",
       "..          ...  ...   ...                  ...     ...  \n",
       "95     01 TO 03   95    80                   56       2  \n",
       "96     04 TO 06   96    78                   56       5  \n",
       "97     07 TO 09   97   135                   65       8  \n",
       "98     13 TO 15   98   148                   65      14  \n",
       "99     01 TO 03   99    81                   56       2  \n",
       "\n",
       "[100 rows x 14 columns]"
      ]
     },
     "execution_count": 6,
     "metadata": {},
     "output_type": "execute_result"
    }
   ],
   "source": [
    "##Storey Range. Will be getting the middle of the storey range (i.e. 01 to 03 = 02, 10 to 12 = 11)\n",
    "# Find the unique entries of the storey_range column\n",
    "import numpy as np\n",
    "hdb_df.storey_range.unique()\n",
    "\n",
    "#replace storey range with medianized storeys\n",
    "hdb_df['storey'] = hdb_df['storey_range'].replace({'10 TO 12': '11', '01 TO 03': '2', '04 TO 06': '5', '07 TO 09':'8', '13 TO 15':'14', '19 TO 21':'20', '22 TO 24':'23'}) #improve on this to be more repeatable\n",
    "hdb_df['storey'] = hdb_df.storey.astype(np.int64)\n",
    "hdb_df"
   ]
  },
  {
   "cell_type": "markdown",
   "metadata": {},
   "source": [
    "## Performing Linear Regression modelling"
   ]
  },
  {
   "cell_type": "code",
   "execution_count": 7,
   "metadata": {},
   "outputs": [
    {
     "data": {
      "text/html": [
       "<div>\n",
       "<style scoped>\n",
       "    .dataframe tbody tr th:only-of-type {\n",
       "        vertical-align: middle;\n",
       "    }\n",
       "\n",
       "    .dataframe tbody tr th {\n",
       "        vertical-align: top;\n",
       "    }\n",
       "\n",
       "    .dataframe thead th {\n",
       "        text-align: right;\n",
       "    }\n",
       "</style>\n",
       "<table border=\"1\" class=\"dataframe\">\n",
       "  <thead>\n",
       "    <tr style=\"text-align: right;\">\n",
       "      <th></th>\n",
       "      <th>resale_price</th>\n",
       "    </tr>\n",
       "  </thead>\n",
       "  <tbody>\n",
       "    <tr>\n",
       "      <th>0</th>\n",
       "      <td>232000</td>\n",
       "    </tr>\n",
       "    <tr>\n",
       "      <th>1</th>\n",
       "      <td>250000</td>\n",
       "    </tr>\n",
       "    <tr>\n",
       "      <th>2</th>\n",
       "      <td>262000</td>\n",
       "    </tr>\n",
       "    <tr>\n",
       "      <th>3</th>\n",
       "      <td>265000</td>\n",
       "    </tr>\n",
       "    <tr>\n",
       "      <th>4</th>\n",
       "      <td>265000</td>\n",
       "    </tr>\n",
       "    <tr>\n",
       "      <th>...</th>\n",
       "      <td>...</td>\n",
       "    </tr>\n",
       "    <tr>\n",
       "      <th>95</th>\n",
       "      <td>380000</td>\n",
       "    </tr>\n",
       "    <tr>\n",
       "      <th>96</th>\n",
       "      <td>382000</td>\n",
       "    </tr>\n",
       "    <tr>\n",
       "      <th>97</th>\n",
       "      <td>384000</td>\n",
       "    </tr>\n",
       "    <tr>\n",
       "      <th>98</th>\n",
       "      <td>385000</td>\n",
       "    </tr>\n",
       "    <tr>\n",
       "      <th>99</th>\n",
       "      <td>390000</td>\n",
       "    </tr>\n",
       "  </tbody>\n",
       "</table>\n",
       "<p>100 rows × 1 columns</p>\n",
       "</div>"
      ],
      "text/plain": [
       "    resale_price\n",
       "0         232000\n",
       "1         250000\n",
       "2         262000\n",
       "3         265000\n",
       "4         265000\n",
       "..           ...\n",
       "95        380000\n",
       "96        382000\n",
       "97        384000\n",
       "98        385000\n",
       "99        390000\n",
       "\n",
       "[100 rows x 1 columns]"
      ]
     },
     "execution_count": 7,
     "metadata": {},
     "output_type": "execute_result"
    }
   ],
   "source": [
    "from sklearn import linear_model\n",
    "from sklearn.model_selection import train_test_split\n",
    "\n",
    "# Defining the value to be optimized(resale_price)\n",
    "predictor = hdb_df[['resale_price']]\n",
    "predictor"
   ]
  },
  {
   "cell_type": "code",
   "execution_count": 8,
   "metadata": {},
   "outputs": [
    {
     "data": {
      "text/html": [
       "<div>\n",
       "<style scoped>\n",
       "    .dataframe tbody tr th:only-of-type {\n",
       "        vertical-align: middle;\n",
       "    }\n",
       "\n",
       "    .dataframe tbody tr th {\n",
       "        vertical-align: top;\n",
       "    }\n",
       "\n",
       "    .dataframe thead th {\n",
       "        text-align: right;\n",
       "    }\n",
       "</style>\n",
       "<table border=\"1\" class=\"dataframe\">\n",
       "  <thead>\n",
       "    <tr style=\"text-align: right;\">\n",
       "      <th></th>\n",
       "      <th>storey</th>\n",
       "      <th>floor_area_sqm</th>\n",
       "      <th>remaining_lease_int</th>\n",
       "    </tr>\n",
       "  </thead>\n",
       "  <tbody>\n",
       "    <tr>\n",
       "      <th>0</th>\n",
       "      <td>11</td>\n",
       "      <td>44</td>\n",
       "      <td>57</td>\n",
       "    </tr>\n",
       "    <tr>\n",
       "      <th>1</th>\n",
       "      <td>2</td>\n",
       "      <td>67</td>\n",
       "      <td>56</td>\n",
       "    </tr>\n",
       "    <tr>\n",
       "      <th>2</th>\n",
       "      <td>2</td>\n",
       "      <td>67</td>\n",
       "      <td>58</td>\n",
       "    </tr>\n",
       "    <tr>\n",
       "      <th>3</th>\n",
       "      <td>5</td>\n",
       "      <td>68</td>\n",
       "      <td>58</td>\n",
       "    </tr>\n",
       "    <tr>\n",
       "      <th>4</th>\n",
       "      <td>2</td>\n",
       "      <td>67</td>\n",
       "      <td>58</td>\n",
       "    </tr>\n",
       "    <tr>\n",
       "      <th>...</th>\n",
       "      <td>...</td>\n",
       "      <td>...</td>\n",
       "      <td>...</td>\n",
       "    </tr>\n",
       "    <tr>\n",
       "      <th>95</th>\n",
       "      <td>2</td>\n",
       "      <td>91</td>\n",
       "      <td>56</td>\n",
       "    </tr>\n",
       "    <tr>\n",
       "      <th>96</th>\n",
       "      <td>5</td>\n",
       "      <td>91</td>\n",
       "      <td>56</td>\n",
       "    </tr>\n",
       "    <tr>\n",
       "      <th>97</th>\n",
       "      <td>8</td>\n",
       "      <td>84</td>\n",
       "      <td>65</td>\n",
       "    </tr>\n",
       "    <tr>\n",
       "      <th>98</th>\n",
       "      <td>14</td>\n",
       "      <td>84</td>\n",
       "      <td>65</td>\n",
       "    </tr>\n",
       "    <tr>\n",
       "      <th>99</th>\n",
       "      <td>2</td>\n",
       "      <td>91</td>\n",
       "      <td>56</td>\n",
       "    </tr>\n",
       "  </tbody>\n",
       "</table>\n",
       "<p>100 rows × 3 columns</p>\n",
       "</div>"
      ],
      "text/plain": [
       "    storey  floor_area_sqm  remaining_lease_int\n",
       "0       11              44                   57\n",
       "1        2              67                   56\n",
       "2        2              67                   58\n",
       "3        5              68                   58\n",
       "4        2              67                   58\n",
       "..     ...             ...                  ...\n",
       "95       2              91                   56\n",
       "96       5              91                   56\n",
       "97       8              84                   65\n",
       "98      14              84                   65\n",
       "99       2              91                   56\n",
       "\n",
       "[100 rows x 3 columns]"
      ]
     },
     "execution_count": 8,
     "metadata": {},
     "output_type": "execute_result"
    }
   ],
   "source": [
    "#Defining the features for optimization\n",
    "features = hdb_df[['storey','floor_area_sqm','remaining_lease_int']]\n",
    "features"
   ]
  },
  {
   "cell_type": "code",
   "execution_count": 9,
   "metadata": {
    "collapsed": true
   },
   "outputs": [],
   "source": [
    "#Leave test size as default. use arbitary random_state 0 to get same result across different calls\n",
    "x_train, x_test, y_train, y_test = train_test_split(features,predictor ,random_state=0)"
   ]
  },
  {
   "cell_type": "code",
   "execution_count": 10,
   "metadata": {
    "scrolled": true
   },
   "outputs": [
    {
     "name": "stdout",
     "output_type": "stream",
     "text": [
      "(75, 3) (75, 1)\n",
      "(25, 3) (25, 1)\n"
     ]
    }
   ],
   "source": [
    "# check on inputs \n",
    "print (x_train.shape, y_train.shape)\n",
    "print (x_test.shape, y_test.shape)"
   ]
  },
  {
   "cell_type": "code",
   "execution_count": 11,
   "metadata": {},
   "outputs": [
    {
     "data": {
      "text/plain": [
       "array([[4689.73945809, 5740.02445847, 6444.0021921 ]])"
      ]
     },
     "execution_count": 11,
     "metadata": {},
     "output_type": "execute_result"
    }
   ],
   "source": [
    "# Since it is likely to be a regression model, starting off with a linear regression first\n",
    "linear_reg = linear_model.LinearRegression()\n",
    "model = linear_reg.fit(x_train, y_train)\n",
    "\n",
    "predictions = linear_reg.predict(x_test)\n",
    "model.coef_ \n"
   ]
  },
  {
   "cell_type": "code",
   "execution_count": 12,
   "metadata": {},
   "outputs": [
    {
     "data": {
      "image/png": "[encoded data removed]",
      "text/plain": [
       "<Figure size 432x288 with 1 Axes>"
      ]
     },
     "metadata": {
      "needs_background": "light"
     },
     "output_type": "display_data"
    }
   ],
   "source": [
    "#FEATURE importance bar chart, SEARCH IF THIS IS THE RIGHT WAY\n",
    "plt.barh(np.array(features.columns),model.coef_[0])\n",
    "plt.title('Feature Importance')\n",
    "plt.xlabel('Coefficient')\n",
    "plt.show()"
   ]
  },
  {
   "cell_type": "markdown",
   "metadata": {},
   "source": [
    "The Linear regression model shows that although remaining lease has high importance in determining transaction prices, it is not very distinct from the other 2 factors (floor_area & storey)"
   ]
  },
  {
   "cell_type": "markdown",
   "metadata": {},
   "source": [
    "### Plotting a scatter plot"
   ]
  },
  {
   "cell_type": "code",
   "execution_count": 13,
   "metadata": {},
   "outputs": [
    {
     "data": {
      "text/plain": [
       "Text(0, 0.5, 'Predictions')"
      ]
     },
     "execution_count": 13,
     "metadata": {},
     "output_type": "execute_result"
    },
    {
     "data": {
      "image/png": "[encoded data removed]",
      "text/plain": [
       "<Figure size 432x288 with 1 Axes>"
      ]
     },
     "metadata": {
      "needs_background": "light"
     },
     "output_type": "display_data"
    }
   ],
   "source": [
    "plt.scatter(y_test, predictions)\n",
    "plt.xlabel(\"True Values\")\n",
    "plt.ylabel(\"Predictions\")"
   ]
  },
  {
   "cell_type": "code",
   "execution_count": 14,
   "metadata": {},
   "outputs": [
    {
     "name": "stdout",
     "output_type": "stream",
     "text": [
      "Score: 0.9609234411537675\n"
     ]
    }
   ],
   "source": [
    "#Prints the R^2 of the prediction.\n",
    "print (\"Score:\", model.score(x_test, y_test))"
   ]
  },
  {
   "cell_type": "markdown",
   "metadata": {},
   "source": [
    "The Rsq is at 96.1% which indicates that the linear regression model is relatively accurate in predicting transaction prices."
   ]
  },
  {
   "cell_type": "markdown",
   "metadata": {},
   "source": [
    "### Gradient Boost Regression"
   ]
  },
  {
   "cell_type": "code",
   "execution_count": 15,
   "metadata": {
    "collapsed": true
   },
   "outputs": [],
   "source": [
    "#Try the Gradient Boost regressor\n",
    "\n",
    "from sklearn import ensemble\n",
    "GBreg = ensemble.GradientBoostingRegressor(n_estimators = 500, max_depth=4, min_samples_split = 3, learning_rate=0.1, loss = 'ls')"
   ]
  },
  {
   "cell_type": "code",
   "execution_count": 16,
   "metadata": {},
   "outputs": [
    {
     "data": {
      "text/plain": [
       "GradientBoostingRegressor(max_depth=4, min_samples_split=3, n_estimators=500)"
      ]
     },
     "execution_count": 16,
     "metadata": {},
     "output_type": "execute_result"
    }
   ],
   "source": [
    "GBreg.fit(x_train,y_train.values.ravel())"
   ]
  },
  {
   "cell_type": "code",
   "execution_count": 17,
   "metadata": {},
   "outputs": [
    {
     "name": "stdout",
     "output_type": "stream",
     "text": [
      "0.9514292231963996\n"
     ]
    }
   ],
   "source": [
    "print(GBreg.score(x_test,y_test))"
   ]
  },
  {
   "cell_type": "markdown",
   "metadata": {},
   "source": [
    "The Gradient Boost regression gives a Rsq of 95.1%. Although marginally lower than the linear regressor, it is still relatively accurate in prediciting transaction prices."
   ]
  },
  {
   "cell_type": "code",
   "execution_count": 18,
   "metadata": {
    "scrolled": true
   },
   "outputs": [
    {
     "data": {
      "text/plain": [
       "array([0.01424295, 0.76143573, 0.22432132])"
      ]
     },
     "execution_count": 18,
     "metadata": {},
     "output_type": "execute_result"
    }
   ],
   "source": [
    "GBreg.feature_importances_"
   ]
  },
  {
   "cell_type": "code",
   "execution_count": 19,
   "metadata": {
    "scrolled": true
   },
   "outputs": [
    {
     "data": {
      "image/png": "[encoded data removed]",
      "text/plain": [
       "<Figure size 864x432 with 1 Axes>"
      ]
     },
     "metadata": {
      "needs_background": "light"
     },
     "output_type": "display_data"
    }
   ],
   "source": [
    "# Plotting Feature importance of GB Regression\n",
    "feature_importance = GBreg.feature_importances_\n",
    "sorted_idx = np.argsort(feature_importance)\n",
    "pos = np.arange(sorted_idx.shape[0]) + .5\n",
    "fig = plt.figure(figsize=(12, 6))\n",
    "plt.subplot(1, 2, 1)\n",
    "plt.barh(pos, feature_importance[sorted_idx], align='center')\n",
    "plt.yticks(pos, np.array(features.columns)[sorted_idx])\n",
    "plt.title('Feature Importance (MDI)')\n",
    "\n",
    "\n",
    "fig.tight_layout()\n",
    "plt.show()"
   ]
  },
  {
   "cell_type": "markdown",
   "metadata": {},
   "source": [
    "There is a more significant difference in feature importance from the Gradient boost regressor model. It reveals that floor area whilst previously being quite close in importance to lease, is now a dominant factor in determining transaction prices.  \n",
    "It further differentiates and plays down the importance of the floor level (storey) in determining the transaction prices. This will be useful consideration in comparison should all other factors remain equal. "
   ]
  },
  {
   "cell_type": "markdown",
   "metadata": {},
   "source": [
    "# Analysis of venues from each area"
   ]
  },
  {
   "cell_type": "code",
   "execution_count": 20,
   "metadata": {},
   "outputs": [
    {
     "data": {
      "text/html": [
       "<div>\n",
       "<style scoped>\n",
       "    .dataframe tbody tr th:only-of-type {\n",
       "        vertical-align: middle;\n",
       "    }\n",
       "\n",
       "    .dataframe tbody tr th {\n",
       "        vertical-align: top;\n",
       "    }\n",
       "\n",
       "    .dataframe thead th {\n",
       "        text-align: right;\n",
       "    }\n",
       "</style>\n",
       "<table border=\"1\" class=\"dataframe\">\n",
       "  <thead>\n",
       "    <tr style=\"text-align: right;\">\n",
       "      <th></th>\n",
       "      <th>town</th>\n",
       "    </tr>\n",
       "  </thead>\n",
       "  <tbody>\n",
       "    <tr>\n",
       "      <th>0</th>\n",
       "      <td>ANG MO KIO</td>\n",
       "    </tr>\n",
       "    <tr>\n",
       "      <th>1</th>\n",
       "      <td>BEDOK</td>\n",
       "    </tr>\n",
       "    <tr>\n",
       "      <th>2</th>\n",
       "      <td>BISHAN</td>\n",
       "    </tr>\n",
       "  </tbody>\n",
       "</table>\n",
       "</div>"
      ],
      "text/plain": [
       "         town\n",
       "0  ANG MO KIO\n",
       "1       BEDOK\n",
       "2      BISHAN"
      ]
     },
     "execution_count": 20,
     "metadata": {},
     "output_type": "execute_result"
    }
   ],
   "source": [
    "#initialize the venue df\n",
    "hdb_venue_df = pd.DataFrame()\n",
    "\n",
    "hdb_venue_df['town']= hdb_df['town'].unique()\n",
    "hdb_venue_df\n"
   ]
  },
  {
   "cell_type": "markdown",
   "metadata": {},
   "source": [
    "There are only 3 towns with transactions for the dataset. Not surprising as SG is a small city and does not have many towns. The towns in the data set are also popular \"mature\" estates that affirms the transaction volumes. "
   ]
  },
  {
   "cell_type": "markdown",
   "metadata": {},
   "source": [
    "### Obtaining a list of venues for each town"
   ]
  },
  {
   "cell_type": "code",
   "execution_count": 21,
   "metadata": {},
   "outputs": [
    {
     "data": {
      "text/html": [
       "<div>\n",
       "<style scoped>\n",
       "    .dataframe tbody tr th:only-of-type {\n",
       "        vertical-align: middle;\n",
       "    }\n",
       "\n",
       "    .dataframe tbody tr th {\n",
       "        vertical-align: top;\n",
       "    }\n",
       "\n",
       "    .dataframe thead th {\n",
       "        text-align: right;\n",
       "    }\n",
       "</style>\n",
       "<table border=\"1\" class=\"dataframe\">\n",
       "  <thead>\n",
       "    <tr style=\"text-align: right;\">\n",
       "      <th></th>\n",
       "      <th>town</th>\n",
       "      <th>Latitude</th>\n",
       "      <th>Longitude</th>\n",
       "    </tr>\n",
       "  </thead>\n",
       "  <tbody>\n",
       "    <tr>\n",
       "      <th>0</th>\n",
       "      <td>Ang Mo Kio</td>\n",
       "      <td>1.369115</td>\n",
       "      <td>103.845436</td>\n",
       "    </tr>\n",
       "    <tr>\n",
       "      <th>1</th>\n",
       "      <td>Bedok</td>\n",
       "      <td>1.324999</td>\n",
       "      <td>103.932368</td>\n",
       "    </tr>\n",
       "    <tr>\n",
       "      <th>2</th>\n",
       "      <td>Bishan</td>\n",
       "      <td>1.351912</td>\n",
       "      <td>103.848971</td>\n",
       "    </tr>\n",
       "  </tbody>\n",
       "</table>\n",
       "</div>"
      ],
      "text/plain": [
       "         town  Latitude   Longitude\n",
       "0  Ang Mo Kio  1.369115  103.845436\n",
       "1       Bedok  1.324999  103.932368\n",
       "2      Bishan  1.351912  103.848971"
      ]
     },
     "execution_count": 21,
     "metadata": {},
     "output_type": "execute_result"
    }
   ],
   "source": [
    "#input town coordinates\n",
    "import types\n",
    "import pandas as pd\n",
    "from botocore.client import Config\n",
    "import ibm_boto3\n",
    "\n",
    "def __iter__(self): return 0\n",
    "\n",
    "# @hidden_cell\n",
    "# The following code accesses a file in your IBM Cloud Object Storage. It includes your credentials.\n",
    "# You might want to remove those credentials before you share the notebook.\n",
    "client_796bdecadf3f4326b0afe947b25d86fa = ibm_boto3.client(service_name='s3',\n",
    "    ibm_api_key_id='LbrDOvRBqrZc_kfRvh_8CH_1VmxxNFSkGmibu5EZrlPA',\n",
    "    ibm_auth_endpoint=\"https://iam.cloud.ibm.com/oidc/token\",\n",
    "    config=Config(signature_version='oauth'),\n",
    "    endpoint_url='https://s3-api.us-geo.objectstorage.service.networklayer.com')\n",
    "\n",
    "body = client_796bdecadf3f4326b0afe947b25d86fa.get_object(Bucket='datasciencespecialization-donotdelete-pr-sadtxoioteptgv',Key='sg_Geospatial_Coordinates.csv')['Body']\n",
    "# add missing __iter__ method, so pandas accepts body as file-like object\n",
    "if not hasattr(body, \"__iter__\"): body.__iter__ = types.MethodType( __iter__, body )\n",
    "\n",
    "df_data_1 = pd.read_csv(body)\n",
    "df_data_1.head()"
   ]
  },
  {
   "cell_type": "code",
   "execution_count": 22,
   "metadata": {
    "scrolled": true
   },
   "outputs": [
    {
     "data": {
      "text/html": [
       "<div>\n",
       "<style scoped>\n",
       "    .dataframe tbody tr th:only-of-type {\n",
       "        vertical-align: middle;\n",
       "    }\n",
       "\n",
       "    .dataframe tbody tr th {\n",
       "        vertical-align: top;\n",
       "    }\n",
       "\n",
       "    .dataframe thead th {\n",
       "        text-align: right;\n",
       "    }\n",
       "</style>\n",
       "<table border=\"1\" class=\"dataframe\">\n",
       "  <thead>\n",
       "    <tr style=\"text-align: right;\">\n",
       "      <th></th>\n",
       "      <th>town</th>\n",
       "      <th>Latitude</th>\n",
       "      <th>Longitude</th>\n",
       "    </tr>\n",
       "  </thead>\n",
       "  <tbody>\n",
       "    <tr>\n",
       "      <th>0</th>\n",
       "      <td>ANG MO KIO</td>\n",
       "      <td>1.369115</td>\n",
       "      <td>103.845436</td>\n",
       "    </tr>\n",
       "    <tr>\n",
       "      <th>1</th>\n",
       "      <td>BEDOK</td>\n",
       "      <td>1.324999</td>\n",
       "      <td>103.932368</td>\n",
       "    </tr>\n",
       "    <tr>\n",
       "      <th>2</th>\n",
       "      <td>BISHAN</td>\n",
       "      <td>1.351912</td>\n",
       "      <td>103.848971</td>\n",
       "    </tr>\n",
       "  </tbody>\n",
       "</table>\n",
       "</div>"
      ],
      "text/plain": [
       "         town  Latitude   Longitude\n",
       "0  ANG MO KIO  1.369115  103.845436\n",
       "1       BEDOK  1.324999  103.932368\n",
       "2      BISHAN  1.351912  103.848971"
      ]
     },
     "execution_count": 22,
     "metadata": {},
     "output_type": "execute_result"
    }
   ],
   "source": [
    "#make 'town' all caps to enable merge\n",
    "df_data_1['town'] = df_data_1['town'].str.upper()\n",
    "#merge both tables\n",
    "venue_df = pd.merge(df_data_1, hdb_venue_df, on='town')\n",
    "venue_df"
   ]
  },
  {
   "cell_type": "markdown",
   "metadata": {},
   "source": [
    "### Pulling Venue from Foursquare "
   ]
  },
  {
   "cell_type": "code",
   "execution_count": 23,
   "metadata": {
    "collapsed": true
   },
   "outputs": [],
   "source": [
    "#Foursquare credentials - Removed for sharing\n",
    "CLIENT_ID = # your Foursquare ID\n",
    "CLIENT_SECRET = # your Foursquare Secret\n",
    "ACCESS_TOKEN = # your FourSquare Access Token\n",
    "VERSION = '20180604'\n",
    "LIMIT = 100"
   ]
  },
  {
   "cell_type": "code",
   "execution_count": 24,
   "metadata": {
    "collapsed": true
   },
   "outputs": [],
   "source": [
    "#function to get the name of the category\n",
    "def get_category_type(row):\n",
    "    categories_list = row['Category']  \n",
    "    \n",
    "    if len(categories_list) == 0:\n",
    "        return None\n",
    "    else:\n",
    "        return categories_list[0]['name']"
   ]
  },
  {
   "cell_type": "code",
   "execution_count": 35,
   "metadata": {},
   "outputs": [
    {
     "name": "stdout",
     "output_type": "stream",
     "text": [
      "----ANG MO KIO----\n",
      "                     Count\n",
      "Category                  \n",
      "Asian Restaurant         1\n",
      "Burger Joint             1\n",
      "Japanese Restaurant      1\n",
      "Noodle House             1\n",
      "Park                     1\n",
      "Ramen Restaurant         1\n",
      "Snack Place              1\n",
      "Spa                      1\n",
      "Supermarket              2\n",
      "----BEDOK----\n",
      "                               Count\n",
      "Category                            \n",
      "Asian Restaurant                   1\n",
      "Bakery                             1\n",
      "Breakfast Spot                     1\n",
      "Café                               1\n",
      "Chinese Restaurant                 1\n",
      "Coffee Shop                        1\n",
      "Food Court                         1\n",
      "Supermarket                        1\n",
      "Thai Restaurant                    1\n",
      "Vegetarian / Vegan Restaurant      1\n",
      "----BISHAN----\n",
      "                     Count\n",
      "Category                  \n",
      "Bookstore                1\n",
      "Chinese Restaurant       1\n",
      "Coffee Shop              1\n",
      "Dumpling Restaurant      1\n",
      "Food Court               1\n",
      "Gym                      1\n",
      "Japanese Restaurant      1\n",
      "Pool                     1\n",
      "Shaanxi Restaurant       1\n",
      "Stadium                  1\n"
     ]
    }
   ],
   "source": [
    "import requests\n",
    "\n",
    "for i in venue_df.index:\n",
    "    \n",
    "    town = venue_df['town'][i]\n",
    "    print(\"----\"+town+\"----\")\n",
    "    lat =venue_df['Latitude'][i]\n",
    "    lng =venue_df['Longitude'][i]\n",
    "    radius = 1000 \n",
    "    LIMIT = 10 \n",
    "#     print(i,town,lat,lng)\n",
    "    \n",
    "    url = 'https://api.foursquare.com/v2/venues/explore?client_id={}&client_secret={}&ll={},{}&v={}&radius={}&limit={}'.format(CLIENT_ID, CLIENT_SECRET, lat, lng, VERSION, radius, LIMIT)\n",
    "    results = json.loads(requests.get(url).text)\n",
    "    \n",
    "    results = results['response']['groups'][0]['items']\n",
    "    nearby = pd.json_normalize(results) # Flattens JSON\n",
    "\n",
    "    # Filtering the columns\n",
    "    filtered_columns = ['venue.name', 'venue.categories', 'venue.location.lat', 'venue.location.lng']\n",
    "    nearby = nearby.loc[:, filtered_columns]\n",
    "    \n",
    "    # Renaming the columns\n",
    "    columns = ['Name', 'Category', 'Latitude', 'Longitude']\n",
    "    nearby.columns = columns\n",
    "\n",
    "    # Gets the categories\n",
    "    nearby['Category'] = nearby.apply(get_category_type, axis=1)    \n",
    "\n",
    "    #Group category by count\n",
    "    grouped_nearby = nearby.groupby(nearby['Category']).count()\n",
    "    \n",
    "    grouped_nearby = grouped_nearby.drop(['Latitude','Longitude'], axis=1)\n",
    "    grouped_nearby = grouped_nearby.rename(columns={'Name':'Count'})\n",
    "    print(grouped_nearby)"
   ]
  },
  {
   "cell_type": "markdown",
   "metadata": {},
   "source": [
    "Looking at the venues in each town, although it seems like there is a wide spread of categories, most of them can be classified as Food & Beverages (i.e restaurants, burger, food court, coffee shop, cafes, noodle house). Other than Food & Beverages, the unique venues for the towns are as follows:  \n",
    "\n",
    "•\tAng Mo Kio: Park, Spa, Supermarket  \n",
    "•\tBedok: Supermarket  \n",
    "•\tBishan: Bookstore, Gym, Pool, Stadium  \n",
    "\n",
    "From the venues data, all 3 towns have a wide variety of places to eat. Buyers that are looking for more recreational facilities can look to Bishan where there are sports facilities like gyms, pools and stadiums. A neighborhood covering more needs would be Ang Mo Kio where there are recreational (Park & Spa) and amenities(supermarket) as well. Bedok has a supermarket but the venues do not reveal amenities in the neighborhood.  "
   ]
  },
  {
   "cell_type": "markdown",
   "metadata": {},
   "source": [
    "## Conclusion  \n",
    "From the regression models feature importance chart, all else being equal, when deciding on the premium to sell a HDB flat at, sellers should focus on their units’ floor area and remaining lease rather than placing a premium on the level at which their unit was located. Although it is commonly regarded that every storey level brings a premium, the model reveals that whilst that may be true in certain cases, the floor area and years of remaining lease are the key features in determining a selling price.  \n",
    "\n",
    "Given that it has a high predictive accuracy, potential flat sellers can utilize the linear regression model developed to get a data backed estimate of a reasonable selling price base on the features of the flat.    \n",
    "\n",
    "This project has provided a data informed pricing model to guide sellers on HDB prices to sell at. It has answered the problem statement and identified the key features influencing HDB transaction prices namely (floor area & years of remaining lease). It has also provided a categorisation of venues type to provide a perspective on the venues in each neighborhood to better inform HDB flat purchases. Clients now have an improved decision making in evaluating the impact of different factors to the price of flat for buying/selling evaluation.\n",
    "\n"
   ]
  },
  {
   "cell_type": "markdown",
   "metadata": {},
   "source": [
    "## Learnings  \n",
    "Data science does not have to be a linearly progressing problem solving method. Rather than wrestle with trying to get the right problem and data, focus first on a simple problem and develop a Minimum Viable Output from it. As you dive deep, more questions will surface to mind. Park these aside for future exploration into your backlog and focus on developing your MVOutput.  \n",
    "Once the MVOutput is done and you have a better grasp of your steps, data sources and questions to ask, embark on another MVOutput iteration to beef up your analysis. The analysis will refine with the iterations or perhaps certain MVOs will become shippable as its own standalone reports.\n",
    "Nothing is wasted!"
   ]
  }
 ],
 "metadata": {
  "kernelspec": {
   "display_name": "Python 3",
   "language": "python",
   "name": "python3"
  },
  "language_info": {
   "codemirror_mode": {
    "name": "ipython",
    "version": 3
   },
   "file_extension": ".py",
   "mimetype": "text/x-python",
   "name": "python",
   "nbconvert_exporter": "python",
   "pygments_lexer": "ipython3",
   "version": "3.6.2"
  }
 },
 "nbformat": 4,
 "nbformat_minor": 1
}
