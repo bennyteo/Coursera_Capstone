{
 "cells": [
  {
   "cell_type": "markdown",
   "metadata": {
    "collapsed": true
   },
   "source": [
    "# Problem\n",
    "In Singapore, public housing are named as the ubiquitious HDB flats. Due to the growing economy and land scarce nature of the island nature, property prices are on a general uptrend. Despite it being public housing, lease holders have the right to buy and sell their HDB flats allowing for a chance for profit.  \n",
    "Despite public data on transaction prices being available, it is still a challenge to determine the right price to sell at. This data science project aims to identify the factors that influence real estate prices and hopes to develop a predictive model considering those factors to provide future sellers with a data informed pricing guide to sell at."
   ]
  },
  {
   "cell_type": "markdown",
   "metadata": {},
   "source": [
    "# Literature review\n",
    "An NUS Study compares depreciation value between private leasehold, private freehold and HDB flats. It however does not provide a perspective of other factors. \n",
    "Property Guru & 99co provides transaction prices but do not determine what factors influence the prices.    "
   ]
  },
  {
   "cell_type": "markdown",
   "metadata": {},
   "source": [
    "# Data Description\n",
    "URA API source (https://www.ura.gov.sg/maps/api/#introduction) includes only Private residential/landed prices but not public housing transaction prices. The dataset may be relevant if there is an extension of the work to private housing.  \n",
    "Data.gov.sg has a wealth of publicly available data. A trawl through the database yielded a residential resale prices to be a good fit to what is required. Its dataset includes Town, Flat type, Block, Street name, Storey range, Floor area sqm, Flat model, Lease commence date, Remaining lease. The 9 factors is presents a sufficiently wide range of factors for the purposes of the study.  \n",
    "Foursquare API data can be used to ascertain nearby amenities and provide a supporting view1. The focus of the study will be on a regression model and thus will not apply the clustering methodology used in the course. It is the author's intention to explore methods beyond what was taught in the course rather than replicating the course steps. \n",
    "\n"
   ]
  }
 ],
 "metadata": {
  "kernelspec": {
   "display_name": "Python 3",
   "language": "python",
   "name": "python3"
  },
  "language_info": {
   "codemirror_mode": {
    "name": "ipython",
    "version": 3
   },
   "file_extension": ".py",
   "mimetype": "text/x-python",
   "name": "python",
   "nbconvert_exporter": "python",
   "pygments_lexer": "ipython3",
   "version": "3.6.2"
  }
 },
 "nbformat": 4,
 "nbformat_minor": 1
}
